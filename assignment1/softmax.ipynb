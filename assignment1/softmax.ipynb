{
 "cells": [
  {
   "cell_type": "markdown",
   "metadata": {},
   "source": [
    "# Softmax exercise\n",
    "\n",
    "*Complete and hand in this completed worksheet (including its outputs and any supporting code outside of the worksheet) with your assignment submission. For more details see the [assignments page](http://vision.stanford.edu/teaching/cs231n/assignments.html) on the course website.*\n",
    "\n",
    "This exercise is analogous to the SVM exercise. You will:\n",
    "\n",
    "- implement a fully-vectorized **loss function** for the Softmax classifier\n",
    "- implement the fully-vectorized expression for its **analytic gradient**\n",
    "- **check your implementation** with numerical gradient\n",
    "- use a validation set to **tune the learning rate and regularization** strength\n",
    "- **optimize** the loss function with **SGD**\n",
    "- **visualize** the final learned weights\n"
   ]
  },
  {
   "cell_type": "code",
   "execution_count": 1,
   "metadata": {
    "collapsed": false
   },
   "outputs": [],
   "source": [
    "import random\n",
    "import numpy as np\n",
    "from cs231n.data_utils import load_CIFAR10\n",
    "import matplotlib.pyplot as plt\n",
    "\n",
    "from __future__ import print_function\n",
    "\n",
    "%matplotlib inline\n",
    "plt.rcParams['figure.figsize'] = (10.0, 8.0) # set default size of plots\n",
    "plt.rcParams['image.interpolation'] = 'nearest'\n",
    "plt.rcParams['image.cmap'] = 'gray'\n",
    "\n",
    "# for auto-reloading extenrnal modules\n",
    "# see http://stackoverflow.com/questions/1907993/autoreload-of-modules-in-ipython\n",
    "%load_ext autoreload\n",
    "%autoreload 2"
   ]
  },
  {
   "cell_type": "code",
   "execution_count": 2,
   "metadata": {
    "collapsed": false
   },
   "outputs": [
    {
     "name": "stdout",
     "output_type": "stream",
     "text": [
      "Train data shape:  (49000, 3073)\n",
      "Train labels shape:  (49000,)\n",
      "Validation data shape:  (1000, 3073)\n",
      "Validation labels shape:  (1000,)\n",
      "Test data shape:  (1000, 3073)\n",
      "Test labels shape:  (1000,)\n",
      "dev data shape:  (500, 3073)\n",
      "dev labels shape:  (500,)\n"
     ]
    }
   ],
   "source": [
    "def get_CIFAR10_data(num_training=49000, num_validation=1000, num_test=1000, num_dev=500):\n",
    "    \"\"\"\n",
    "    Load the CIFAR-10 dataset from disk and perform preprocessing to prepare\n",
    "    it for the linear classifier. These are the same steps as we used for the\n",
    "    SVM, but condensed to a single function.  \n",
    "    \"\"\"\n",
    "    # Load the raw CIFAR-10 data\n",
    "    cifar10_dir = 'cs231n/datasets/cifar-10-batches-py'\n",
    "    X_train, y_train, X_test, y_test = load_CIFAR10(cifar10_dir)\n",
    "    \n",
    "    # subsample the data\n",
    "    mask = list(range(num_training, num_training + num_validation))\n",
    "    X_val = X_train[mask]\n",
    "    y_val = y_train[mask]\n",
    "    mask = list(range(num_training))\n",
    "    X_train = X_train[mask]\n",
    "    y_train = y_train[mask]\n",
    "    mask = list(range(num_test))\n",
    "    X_test = X_test[mask]\n",
    "    y_test = y_test[mask]\n",
    "    mask = np.random.choice(num_training, num_dev, replace=False)\n",
    "    X_dev = X_train[mask]\n",
    "    y_dev = y_train[mask]\n",
    "    \n",
    "    # Preprocessing: reshape the image data into rows\n",
    "    X_train = np.reshape(X_train, (X_train.shape[0], -1))\n",
    "    X_val = np.reshape(X_val, (X_val.shape[0], -1))\n",
    "    X_test = np.reshape(X_test, (X_test.shape[0], -1))\n",
    "    X_dev = np.reshape(X_dev, (X_dev.shape[0], -1))\n",
    "    \n",
    "    # Normalize the data: subtract the mean image\n",
    "    mean_image = np.mean(X_train, axis = 0)\n",
    "    X_train -= mean_image\n",
    "    X_val -= mean_image\n",
    "    X_test -= mean_image\n",
    "    X_dev -= mean_image\n",
    "    \n",
    "    # add bias dimension and transform into columns\n",
    "    X_train = np.hstack([X_train, np.ones((X_train.shape[0], 1))])\n",
    "    X_val = np.hstack([X_val, np.ones((X_val.shape[0], 1))])\n",
    "    X_test = np.hstack([X_test, np.ones((X_test.shape[0], 1))])\n",
    "    X_dev = np.hstack([X_dev, np.ones((X_dev.shape[0], 1))])\n",
    "    \n",
    "    return X_train, y_train, X_val, y_val, X_test, y_test, X_dev, y_dev\n",
    "\n",
    "\n",
    "# Invoke the above function to get our data.\n",
    "X_train, y_train, X_val, y_val, X_test, y_test, X_dev, y_dev = get_CIFAR10_data()\n",
    "print('Train data shape: ', X_train.shape)\n",
    "print('Train labels shape: ', y_train.shape)\n",
    "print('Validation data shape: ', X_val.shape)\n",
    "print('Validation labels shape: ', y_val.shape)\n",
    "print('Test data shape: ', X_test.shape)\n",
    "print('Test labels shape: ', y_test.shape)\n",
    "print('dev data shape: ', X_dev.shape)\n",
    "print('dev labels shape: ', y_dev.shape)"
   ]
  },
  {
   "cell_type": "markdown",
   "metadata": {},
   "source": [
    "## Softmax Classifier\n",
    "\n",
    "Your code for this section will all be written inside **cs231n/classifiers/softmax.py**. \n"
   ]
  },
  {
   "cell_type": "code",
   "execution_count": 7,
   "metadata": {
    "collapsed": false
   },
   "outputs": [
    {
     "name": "stdout",
     "output_type": "stream",
     "text": [
      "loss: 2.344368\n",
      "sanity check: 2.302585\n"
     ]
    }
   ],
   "source": [
    "# First implement the naive softmax loss function with nested loops.\n",
    "# Open the file cs231n/classifiers/softmax.py and implement the\n",
    "# softmax_loss_naive function.\n",
    "\n",
    "from cs231n.classifiers.softmax import softmax_loss_naive\n",
    "import time\n",
    "\n",
    "# Generate a random softmax weight matrix and use it to compute the loss.\n",
    "W = np.random.randn(3073, 10) * 0.0001\n",
    "loss, grad = softmax_loss_naive(W, X_dev, y_dev, 0.0)\n",
    "\n",
    "# As a rough sanity check, our loss should be something close to -log(0.1).\n",
    "print('loss: %f' % loss)\n",
    "print('sanity check: %f' % (-np.log(0.1)))"
   ]
  },
  {
   "cell_type": "markdown",
   "metadata": {},
   "source": [
    "## Inline Question 1:\n",
    "Why do we expect our loss to be close to -log(0.1)? Explain briefly.**\n",
    "\n",
    "**Your answer:** There are 10 classes. We can expect the average probability of each class to be ~0.1 i.e. apriori, it is equally likely for a given sample to belong to any of the 10 classes. Using the definition of the loss, and the probabilitic interpretation of softmax, loss can be expected to be ~ -log(0.1)\n"
   ]
  },
  {
   "cell_type": "code",
   "execution_count": 8,
   "metadata": {
    "collapsed": false
   },
   "outputs": [
    {
     "name": "stdout",
     "output_type": "stream",
     "text": [
      "numerical: -0.670790 analytic: -0.670790, relative error: 5.357342e-08\n",
      "numerical: 3.544206 analytic: 3.544206, relative error: 8.301773e-09\n",
      "numerical: 1.572161 analytic: 1.572161, relative error: 1.895306e-08\n",
      "numerical: -1.132927 analytic: -1.132927, relative error: 2.281447e-08\n",
      "numerical: -1.553744 analytic: -1.553744, relative error: 3.231656e-09\n",
      "numerical: -3.073538 analytic: -3.073538, relative error: 3.878235e-09\n",
      "numerical: 0.797281 analytic: 0.797281, relative error: 2.985041e-08\n",
      "numerical: 0.173183 analytic: 0.173183, relative error: 1.553371e-07\n",
      "numerical: -0.415570 analytic: -0.415570, relative error: 2.190237e-09\n",
      "numerical: 0.912995 analytic: 0.912994, relative error: 5.331394e-08\n",
      "numerical: 2.595479 analytic: 2.595479, relative error: 1.390535e-08\n",
      "numerical: 2.845261 analytic: 2.845261, relative error: 2.145962e-08\n",
      "numerical: 2.108119 analytic: 2.108119, relative error: 1.428581e-08\n",
      "numerical: -2.355304 analytic: -2.355304, relative error: 3.024941e-08\n",
      "numerical: 0.478483 analytic: 0.478483, relative error: 1.075434e-07\n",
      "numerical: 3.777145 analytic: 3.777145, relative error: 2.669338e-08\n",
      "numerical: -0.514119 analytic: -0.514119, relative error: 4.325689e-09\n",
      "numerical: -0.970634 analytic: -0.970634, relative error: 6.334502e-08\n",
      "numerical: -0.909592 analytic: -0.909592, relative error: 1.857389e-08\n",
      "numerical: -0.315656 analytic: -0.315656, relative error: 1.154371e-07\n"
     ]
    }
   ],
   "source": [
    "# Complete the implementation of softmax_loss_naive and implement a (naive)\n",
    "# version of the gradient that uses nested loops.\n",
    "loss, grad = softmax_loss_naive(W, X_dev, y_dev, 0.0)\n",
    "\n",
    "# As we did for the SVM, use numeric gradient checking as a debugging tool.\n",
    "# The numeric gradient should be close to the analytic gradient.\n",
    "from cs231n.gradient_check import grad_check_sparse\n",
    "f = lambda w: softmax_loss_naive(w, X_dev, y_dev, 0.0)[0]\n",
    "grad_numerical = grad_check_sparse(f, W, grad, 10)\n",
    "\n",
    "# similar to SVM case, do another gradient check with regularization\n",
    "loss, grad = softmax_loss_naive(W, X_dev, y_dev, 5e1)\n",
    "f = lambda w: softmax_loss_naive(w, X_dev, y_dev, 5e1)[0]\n",
    "grad_numerical = grad_check_sparse(f, W, grad, 10)"
   ]
  },
  {
   "cell_type": "code",
   "execution_count": 21,
   "metadata": {
    "collapsed": false
   },
   "outputs": [
    {
     "name": "stdout",
     "output_type": "stream",
     "text": [
      "naive loss: 2.344368e+00 computed in 0.147760s\n",
      "vectorized loss: 2.344368e+00 computed in 0.029569s\n",
      "Loss difference: 0.000000\n",
      "Gradient difference: 0.000000\n"
     ]
    }
   ],
   "source": [
    "# Now that we have a naive implementation of the softmax loss function and its gradient,\n",
    "# implement a vectorized version in softmax_loss_vectorized.\n",
    "# The two versions should compute the same results, but the vectorized version should be\n",
    "# much faster.\n",
    "tic = time.time()\n",
    "loss_naive, grad_naive = softmax_loss_naive(W, X_dev, y_dev, 0.000005)\n",
    "toc = time.time()\n",
    "print('naive loss: %e computed in %fs' % (loss_naive, toc - tic))\n",
    "\n",
    "from cs231n.classifiers.softmax import softmax_loss_vectorized\n",
    "tic = time.time()\n",
    "loss_vectorized, grad_vectorized = softmax_loss_vectorized(W, X_dev, y_dev, 0.000005)\n",
    "toc = time.time()\n",
    "print('vectorized loss: %e computed in %fs' % (loss_vectorized, toc - tic))\n",
    "\n",
    "# As we did for the SVM, we use the Frobenius norm to compare the two versions\n",
    "# of the gradient.\n",
    "grad_difference = np.linalg.norm(grad_naive - grad_vectorized, ord='fro')\n",
    "print('Loss difference: %f' % np.abs(loss_naive - loss_vectorized))\n",
    "print('Gradient difference: %f' % grad_difference)"
   ]
  },
  {
   "cell_type": "code",
   "execution_count": 31,
   "metadata": {
    "collapsed": false
   },
   "outputs": [
    {
     "name": "stdout",
     "output_type": "stream",
     "text": [
      "[COMPLETION PERCENTAGE] 4.000000 \n",
      "[COMPLETION PERCENTAGE] 8.000000 \n",
      "[COMPLETION PERCENTAGE] 12.000000 \n",
      "[COMPLETION PERCENTAGE] 16.000000 \n",
      "[COMPLETION PERCENTAGE] 20.000000 \n",
      "[COMPLETION PERCENTAGE] 25.000000 \n",
      "[COMPLETION PERCENTAGE] 29.000000 \n",
      "[COMPLETION PERCENTAGE] 33.000000 \n",
      "[COMPLETION PERCENTAGE] 37.000000 \n",
      "[COMPLETION PERCENTAGE] 41.000000 \n",
      "[COMPLETION PERCENTAGE] 45.000000 \n",
      "[COMPLETION PERCENTAGE] 50.000000 \n",
      "[COMPLETION PERCENTAGE] 54.000000 \n",
      "[COMPLETION PERCENTAGE] 58.000000 \n",
      "[COMPLETION PERCENTAGE] 62.000000 \n",
      "[COMPLETION PERCENTAGE] 66.000000 \n",
      "[COMPLETION PERCENTAGE] 70.000000 \n",
      "[COMPLETION PERCENTAGE] 75.000000 \n",
      "[COMPLETION PERCENTAGE] 79.000000 \n",
      "[COMPLETION PERCENTAGE] 83.000000 \n",
      "[COMPLETION PERCENTAGE] 87.000000 \n",
      "[COMPLETION PERCENTAGE] 91.000000 \n",
      "[COMPLETION PERCENTAGE] 95.000000 \n",
      "[COMPLETION PERCENTAGE] 100.000000 \n",
      "lr 1.000000e-06 reg 1.000000e+01 train accuracy: 0.350163 val accuracy: 0.334000\n",
      "lr 1.000000e-06 reg 5.000000e+01 train accuracy: 0.357796 val accuracy: 0.352000\n",
      "lr 1.000000e-06 reg 1.000000e+02 train accuracy: 0.364816 val accuracy: 0.331000\n",
      "lr 1.000000e-06 reg 5.000000e+02 train accuracy: 0.400184 val accuracy: 0.397000\n",
      "lr 1.000000e-06 reg 1.000000e+03 train accuracy: 0.396918 val accuracy: 0.404000\n",
      "lr 1.000000e-06 reg 5.000000e+03 train accuracy: 0.370980 val accuracy: 0.368000\n",
      "lr 4.000000e-06 reg 1.000000e+01 train accuracy: 0.397163 val accuracy: 0.387000\n",
      "lr 4.000000e-06 reg 5.000000e+01 train accuracy: 0.408959 val accuracy: 0.390000\n",
      "lr 4.000000e-06 reg 1.000000e+02 train accuracy: 0.408184 val accuracy: 0.390000\n",
      "lr 4.000000e-06 reg 5.000000e+02 train accuracy: 0.379327 val accuracy: 0.395000\n",
      "lr 4.000000e-06 reg 1.000000e+03 train accuracy: 0.356000 val accuracy: 0.338000\n",
      "lr 4.000000e-06 reg 5.000000e+03 train accuracy: 0.335347 val accuracy: 0.339000\n",
      "lr 7.000000e-06 reg 1.000000e+01 train accuracy: 0.348020 val accuracy: 0.331000\n",
      "lr 7.000000e-06 reg 5.000000e+01 train accuracy: 0.370408 val accuracy: 0.351000\n",
      "lr 7.000000e-06 reg 1.000000e+02 train accuracy: 0.383490 val accuracy: 0.364000\n",
      "lr 7.000000e-06 reg 5.000000e+02 train accuracy: 0.269204 val accuracy: 0.266000\n",
      "lr 7.000000e-06 reg 1.000000e+03 train accuracy: 0.257898 val accuracy: 0.255000\n",
      "lr 7.000000e-06 reg 5.000000e+03 train accuracy: 0.227776 val accuracy: 0.247000\n",
      "lr 1.000000e-05 reg 1.000000e+01 train accuracy: 0.317327 val accuracy: 0.313000\n",
      "lr 1.000000e-05 reg 5.000000e+01 train accuracy: 0.355796 val accuracy: 0.371000\n",
      "lr 1.000000e-05 reg 1.000000e+02 train accuracy: 0.309204 val accuracy: 0.304000\n",
      "lr 1.000000e-05 reg 5.000000e+02 train accuracy: 0.275755 val accuracy: 0.277000\n",
      "lr 1.000000e-05 reg 1.000000e+03 train accuracy: 0.234000 val accuracy: 0.239000\n",
      "lr 1.000000e-05 reg 5.000000e+03 train accuracy: 0.168122 val accuracy: 0.182000\n",
      "best validation accuracy achieved during cross-validation: 0.404000\n"
     ]
    }
   ],
   "source": [
    "# Use the validation set to tune hyperparameters (regularization strength and\n",
    "# learning rate). You should experiment with different ranges for the learning\n",
    "# rates and regularization strengths; if you are careful you should be able to\n",
    "# get a classification accuracy of over 0.35 on the validation set.\n",
    "from cs231n.classifiers import Softmax\n",
    "results = {}\n",
    "best_val = -1\n",
    "best_softmax = None\n",
    "learning_rates = [a*1e-6 for a in range(1,12,3)]\n",
    "# regularization_strengths = [0]\n",
    "regularization_strengths = [1e1, 1e2, 1e3, 5e1, 5e2, 5e3]\n",
    "\n",
    "################################################################################\n",
    "# TODO:                                                                        #\n",
    "# Use the validation set to set the learning rate and regularization strength. #\n",
    "# This should be identical to the validation that you did for the SVM; save    #\n",
    "# the best trained softmax classifer in best_softmax.                          #\n",
    "################################################################################\n",
    "count = 0\n",
    "for lr in learning_rates:\n",
    "    for reg in regularization_strengths:\n",
    "        count += 1\n",
    "#         print('[INFO] Running for %f combination: lr %f, reg %f' % (count, lr, reg))\n",
    "        print('[COMPLETION PERCENTAGE] %f ' % (100*count/(len(learning_rates)*len(regularization_strengths))))\n",
    "        softmax = Softmax()\n",
    "        softmax.train(X_train, y_train, lr, reg, num_iters=1500)\n",
    "        \n",
    "        y_pred_train = softmax.predict(X_train)\n",
    "        train_accuracy = np.mean(y_train == y_pred_train)\n",
    "        y_pred_val = softmax.predict(X_val)\n",
    "        val_accuracy = np.mean(y_val == y_pred_val)\n",
    "        \n",
    "        if val_accuracy > best_val:\n",
    "            best_val = val_accuracy\n",
    "            best_softmax = softmax           \n",
    "        results[(lr,reg)] = train_accuracy, val_accuracy\n",
    "        \n",
    "################################################################################\n",
    "#                              END OF YOUR CODE                                #\n",
    "################################################################################\n",
    "    \n",
    "# Print out results.\n",
    "for lr, reg in sorted(results):\n",
    "    train_accuracy, val_accuracy = results[(lr, reg)]\n",
    "    print('lr %e reg %e train accuracy: %f val accuracy: %f' % (\n",
    "                lr, reg, train_accuracy, val_accuracy))\n",
    "    \n",
    "print('best validation accuracy achieved during cross-validation: %f' % best_val)"
   ]
  },
  {
   "cell_type": "code",
   "execution_count": 32,
   "metadata": {
    "collapsed": false
   },
   "outputs": [
    {
     "name": "stdout",
     "output_type": "stream",
     "text": [
      "softmax on raw pixels final test set accuracy: 0.398000\n"
     ]
    }
   ],
   "source": [
    "# evaluate on test set\n",
    "# Evaluate the best softmax on test set\n",
    "y_test_pred = best_softmax.predict(X_test)\n",
    "test_accuracy = np.mean(y_test == y_test_pred)\n",
    "print('softmax on raw pixels final test set accuracy: %f' % (test_accuracy, ))"
   ]
  },
  {
   "cell_type": "code",
   "execution_count": 33,
   "metadata": {
    "collapsed": false
   },
   "outputs": [
    {
     "data": {
      "image/png": "[encoded data removed]",
      "text/plain": [
       "<matplotlib.figure.Figure at 0x102385690>"
      ]
     },
     "metadata": {},
     "output_type": "display_data"
    }
   ],
   "source": [
    "# Visualize the learned weights for each class\n",
    "w = best_softmax.W[:-1,:] # strip out the bias\n",
    "w = w.reshape(32, 32, 3, 10)\n",
    "\n",
    "w_min, w_max = np.min(w), np.max(w)\n",
    "\n",
    "classes = ['plane', 'car', 'bird', 'cat', 'deer', 'dog', 'frog', 'horse', 'ship', 'truck']\n",
    "for i in range(10):\n",
    "    plt.subplot(2, 5, i + 1)\n",
    "    \n",
    "    # Rescale the weights to be between 0 and 255\n",
    "    wimg = 255.0 * (w[:, :, :, i].squeeze() - w_min) / (w_max - w_min)\n",
    "    plt.imshow(wimg.astype('uint8'))\n",
    "    plt.axis('off')\n",
    "    plt.title(classes[i])"
   ]
  },
  {
   "cell_type": "code",
   "execution_count": null,
   "metadata": {
    "collapsed": true
   },
   "outputs": [],
   "source": []
  }
 ],
 "metadata": {
  "kernelspec": {
   "display_name": "Python 2",
   "language": "python",
   "name": "python2"
  },
  "language_info": {
   "codemirror_mode": {
    "name": "ipython",
    "version": 2
   },
   "file_extension": ".py",
   "mimetype": "text/x-python",
   "name": "python",
   "nbconvert_exporter": "python",
   "pygments_lexer": "ipython2",
   "version": "2.7.10"
  }
 },
 "nbformat": 4,
 "nbformat_minor": 0
}
